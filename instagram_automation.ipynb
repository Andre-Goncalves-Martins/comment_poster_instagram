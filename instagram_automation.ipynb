{
 "cells": [
  {
   "cell_type": "code",
   "execution_count": 3,
   "metadata": {},
   "outputs": [],
   "source": [
    "from selenium import webdriver\n",
    "from selenium.webdriver.common.keys import Keys\n",
    "from selenium.webdriver.common.by import By\n",
    "import pandas as pd\n",
    "from time import sleep\n",
    "from tqdm import tqdm\n",
    "from random import randint"
   ]
  },
  {
   "cell_type": "code",
   "execution_count": null,
   "metadata": {},
   "outputs": [],
   "source": [
    "def instagram(navegador, email, senha):\n",
    "    navegador.get('https://www.instagram.com/')\n",
    "    sleep(0.5)\n",
    "    navegador.find_element(By.NAME,'username').send_keys(email)\n",
    "    navegador.find_element(By.NAME,'password').send_keys(senha)\n",
    "    navegador.find_element(By.NAME,'password').send_keys(Keys.ENTER)\n",
    "    sleep(1)"
   ]
  },
  {
   "cell_type": "code",
   "execution_count": 4,
   "metadata": {},
   "outputs": [],
   "source": [
    "users = pd.read_csv('usernames.csv')\n",
    "comment = 'Amazing!'\n",
    "email = '' # email para login no instagram\n",
    "senha = '' # senha para login no instagram"
   ]
  },
  {
   "cell_type": "code",
   "execution_count": null,
   "metadata": {},
   "outputs": [],
   "source": [
    "# setting up to run in the background\n",
    "options = webdriver.ChromeOptions()\n",
    "options.add_argument('--headless')\n",
    "\n",
    "navegador = webdriver.Chrome(options=options)\n",
    "instagram(navegador, email, senha)\n",
    "sleep(10)\n",
    "try:\n",
    "    navegador.find_element(by=By.CLASS_NAME, value=\"_a9--._a9_1\").click()\n",
    "except:\n",
    "    print('Não retirou a opção de não ativar as notificações')\n",
    "    pass\n",
    "sleep(1)"
   ]
  },
  {
   "cell_type": "code",
   "execution_count": null,
   "metadata": {},
   "outputs": [],
   "source": [
    "all_rigth = False\n",
    "for user in tqdm(users.USER):\n",
    "    print(user)\n",
    "    search = navegador.find_elements(by=By.CLASS_NAME, value='_ab6-')[1] # element of search\n",
    "    search.click()\n",
    "    sleep(1)\n",
    "    # search user\n",
    "    navegador.find_element(by=By.CLASS_NAME, value='_aauy').send_keys(user) \n",
    "    sleep(1)\n",
    "    \n",
    "    # accessing the profile of the found user\n",
    "    work = True\n",
    "    count = 0 \n",
    "    while work and count < 10:\n",
    "        try:\n",
    "            navegador.find_element(by=By.CLASS_NAME, value=\"x9f619 x1n2onr6 x1ja2u2z x78zum5 x2lah0s x1qughib x6s0dn4 xozqiw3 x1q0g3np\".replace(' ','.')).click()\n",
    "            work=False\n",
    "        except:\n",
    "            count +=1\n",
    "            sleep(0.5)\n",
    "            print('erro primeiro loop')\n",
    "    sleep(5)\n",
    "    \n",
    "    # click on last post\n",
    "    navegador.find_element(by=By.CLASS_NAME, value=\"_aagw\").click() \n",
    "    sleep(5)\n",
    "    \n",
    "    # make the comment\n",
    "    work = True\n",
    "    count = 0 \n",
    "    while work and count < 10:\n",
    "        try: \n",
    "            navegador.find_element(by=By.CLASS_NAME, value=\"x1i0vuye xvbhtw8 x76ihet xwmqs3e x112ta8 xxxdfa6 x5n08af x78zum5 x1iyjqo2 x1qlqyl8 x1d6elog xlk1fp6 x1a2a7pz xexx8yu x4uap5 x18d9i69 xkhd6sd xtt52l0 xnalus7 x1bq4at4 xaqnwrm xs3hnx8\".replace(' ','.')).send_keys(f'@{user} '+comment)\n",
    "            work = False\n",
    "        except:\n",
    "            count += 1\n",
    "            sleep(0.5)\n",
    "            print(count, end=', ')\n",
    "    if work:\n",
    "        print(f'Erro in user {user}!')\n",
    "        break\n",
    "    sleep(1)\n",
    "    \n",
    "    # Sending the comment        \n",
    "    navegador.find_element(by=By.CLASS_NAME, value=\"x1i0vuye xvbhtw8 x76ihet xwmqs3e x112ta8 xxxdfa6 x5n08af x78zum5 x1iyjqo2 x1qlqyl8 x1d6elog xlk1fp6 x1a2a7pz xexx8yu x4uap5 x18d9i69 xkhd6sd xtt52l0 xnalus7 x1bq4at4 xaqnwrm xs3hnx8\".replace(' ','.')).send_keys(Keys.ENTER)\n",
    "    sleep(2)\n",
    "    \n",
    "    # exit post\n",
    "    navegador.find_element(by=By.CLASS_NAME, value='x1i10hfl x6umtig x1b1mbwd xaqea5y xav7gou x9f619 xe8uvvx xdj266r x11i5rnm xat24cr x1mh8g0r x16tdsg8 x1hl2dhg xggy1nq x1a2a7pz x6s0dn4 x78zum5 xjbqb8w x1ejq31n xd10rxx x1sy0etr x17r0tee x1ypdohk xl56j7k x1y1aw1k x1sxyh0 xwib8y2 xurb0ha'.replace(' ','.')).click()\n",
    "    sleep(.5)\n",
    "    \n",
    "    # go back to home\n",
    "    navegador.find_elements(by=By.CLASS_NAME, value='_ab6-')[0].click()\n",
    "     \n",
    "    # Wait at least 5 minutes to continue\n",
    "    sleep(60*randint(5, 15))\n",
    "    print(f'end {user}')\n",
    "all_rigth = True\n",
    "print(all_rigth)"
   ]
  },
  {
   "cell_type": "code",
   "execution_count": 7,
   "metadata": {},
   "outputs": [],
   "source": [
    "# Atividade do Email\n",
    "assunto = 'Automation of comments on Instagram'\n",
    "corpo = 'Hello! \\nAll the users requests receive a comment as you defined!'"
   ]
  },
  {
   "cell_type": "code",
   "execution_count": 10,
   "metadata": {},
   "outputs": [
    {
     "name": "stdout",
     "output_type": "stream",
     "text": [
      "E-mail enviado com sucesso!\n"
     ]
    }
   ],
   "source": [
    "import smtplib\n",
    "import ssl\n",
    "\n",
    "smtp_server = \"smtp.gmail.com\"\n",
    "port = 587  # Porta para TLS\n",
    "sender_email = \"\"  # Email do remetente\n",
    "receiver_email = email # Email do destinatário\n",
    "password = \"\" # Senha de aplicativo gerada pelo Gmail\n",
    "message = f\"\"\"\\\n",
    "Subject: {assunto}\n",
    "\n",
    "{corpo}.\"\"\"\n",
    "\n",
    "# Cria uma conexão segura com o servidor SMTP do Gmail usando TLS\n",
    "context = ssl.create_default_context()\n",
    "\n",
    "with smtplib.SMTP(smtp_server, port) as server:\n",
    "    server.starttls(context=context)\n",
    "    server.login(sender_email, password)\n",
    "    server.sendmail(sender_email, receiver_email, message)\n",
    "\n",
    "print(\"E-mail enviado com sucesso!\")"
   ]
  }
 ],
 "metadata": {
  "kernelspec": {
   "display_name": "base",
   "language": "python",
   "name": "python3"
  },
  "language_info": {
   "codemirror_mode": {
    "name": "ipython",
    "version": 3
   },
   "file_extension": ".py",
   "mimetype": "text/x-python",
   "name": "python",
   "nbconvert_exporter": "python",
   "pygments_lexer": "ipython3",
   "version": "3.9.12"
  },
  "orig_nbformat": 4
 },
 "nbformat": 4,
 "nbformat_minor": 2
}
